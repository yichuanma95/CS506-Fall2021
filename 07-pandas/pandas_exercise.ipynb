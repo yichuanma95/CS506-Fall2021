{
 "cells": [
  {
   "cell_type": "markdown",
   "metadata": {},
   "source": [
    "<font size=\"8\"> Introduction to Pandas </font> "
   ]
  },
  {
   "cell_type": "markdown",
   "metadata": {},
   "source": [
    "\n",
    "<font size=\"5\"> Import libraries </font>  \n"
   ]
  },
  {
   "cell_type": "code",
   "execution_count": 1,
   "metadata": {},
   "outputs": [],
   "source": [
    "import numpy as np\n",
    "import pandas as pd"
   ]
  },
  {
   "cell_type": "markdown",
   "metadata": {},
   "source": [
    "<font size=\"5\"> Initializing instances in Pandas </font>  \n",
    "\n"
   ]
  },
  {
   "cell_type": "code",
   "execution_count": 9,
   "metadata": {},
   "outputs": [
    {
     "data": {
      "text/html": [
       "<div>\n",
       "<style scoped>\n",
       "    .dataframe tbody tr th:only-of-type {\n",
       "        vertical-align: middle;\n",
       "    }\n",
       "\n",
       "    .dataframe tbody tr th {\n",
       "        vertical-align: top;\n",
       "    }\n",
       "\n",
       "    .dataframe thead th {\n",
       "        text-align: right;\n",
       "    }\n",
       "</style>\n",
       "<table border=\"1\" class=\"dataframe\">\n",
       "  <thead>\n",
       "    <tr style=\"text-align: right;\">\n",
       "      <th></th>\n",
       "      <th>Name</th>\n",
       "      <th>Age</th>\n",
       "      <th>Salary</th>\n",
       "      <th>Group</th>\n",
       "    </tr>\n",
       "  </thead>\n",
       "  <tbody>\n",
       "    <tr>\n",
       "      <th>0</th>\n",
       "      <td>Elaine</td>\n",
       "      <td>44</td>\n",
       "      <td>7000</td>\n",
       "      <td>MA</td>\n",
       "    </tr>\n",
       "    <tr>\n",
       "      <th>1</th>\n",
       "      <td>Josh</td>\n",
       "      <td>17</td>\n",
       "      <td>5800</td>\n",
       "      <td>NW</td>\n",
       "    </tr>\n",
       "    <tr>\n",
       "      <th>2</th>\n",
       "      <td>Lin</td>\n",
       "      <td>64</td>\n",
       "      <td>7900</td>\n",
       "      <td>NM</td>\n",
       "    </tr>\n",
       "    <tr>\n",
       "      <th>3</th>\n",
       "      <td>Naho</td>\n",
       "      <td>33</td>\n",
       "      <td>5600</td>\n",
       "      <td>WA</td>\n",
       "    </tr>\n",
       "    <tr>\n",
       "      <th>4</th>\n",
       "      <td>Steve</td>\n",
       "      <td>45</td>\n",
       "      <td>6700</td>\n",
       "      <td>PA</td>\n",
       "    </tr>\n",
       "    <tr>\n",
       "      <th>5</th>\n",
       "      <td>Charles</td>\n",
       "      <td>25</td>\n",
       "      <td>5900</td>\n",
       "      <td>TX</td>\n",
       "    </tr>\n",
       "    <tr>\n",
       "      <th>6</th>\n",
       "      <td>Samus</td>\n",
       "      <td>35</td>\n",
       "      <td>9001</td>\n",
       "      <td>ZDR</td>\n",
       "    </tr>\n",
       "  </tbody>\n",
       "</table>\n",
       "</div>"
      ],
      "text/plain": [
       "      Name  Age  Salary Group\n",
       "0   Elaine   44    7000    MA\n",
       "1     Josh   17    5800    NW\n",
       "2      Lin   64    7900    NM\n",
       "3     Naho   33    5600    WA\n",
       "4    Steve   45    6700    PA\n",
       "5  Charles   25    5900    TX\n",
       "6    Samus   35    9001   ZDR"
      ]
     },
     "execution_count": 9,
     "metadata": {},
     "output_type": "execute_result"
    }
   ],
   "source": [
    "df = pd.DataFrame({'Name': ['Elaine', 'Josh', 'Lin', 'Naho', 'Steve', 'Charles', 'Samus'],\n",
    "                   'Age': [44, 17, 64, 33, 45, 25, 35],\n",
    "                   'Salary': [7000, 5800, 7900, 5600, 6700, 5900, 9001],\n",
    "                   'Group': ['MA', 'NW', 'NM', 'WA', 'PA', 'TX', 'ZDR']})\n",
    "df"
   ]
  },
  {
   "cell_type": "markdown",
   "metadata": {},
   "source": [
    "\n",
    "<font size=\"5\"> Overview of the dataframe </font>  \n"
   ]
  },
  {
   "cell_type": "code",
   "execution_count": 10,
   "metadata": {},
   "outputs": [
    {
     "name": "stdout",
     "output_type": "stream",
     "text": [
      "     Name  Age  Salary Group\n",
      "0  Elaine   44    7000    MA\n",
      "1    Josh   17    5800    NW\n",
      "2     Lin   64    7900    NM\n"
     ]
    }
   ],
   "source": [
    "# check top rows\n",
    "print(df.head(3))"
   ]
  },
  {
   "cell_type": "code",
   "execution_count": 11,
   "metadata": {},
   "outputs": [
    {
     "name": "stdout",
     "output_type": "stream",
     "text": [
      "      Name  Age  Salary Group\n",
      "4    Steve   45    6700    PA\n",
      "5  Charles   25    5900    TX\n",
      "6    Samus   35    9001   ZDR\n"
     ]
    }
   ],
   "source": [
    "# check bottom rows\n",
    "print(df.tail(3)) "
   ]
  },
  {
   "cell_type": "code",
   "execution_count": 12,
   "metadata": {},
   "outputs": [
    {
     "name": "stdout",
     "output_type": "stream",
     "text": [
      "RangeIndex(start=0, stop=7, step=1)\n"
     ]
    }
   ],
   "source": [
    "# check index\n",
    "print(df.index)"
   ]
  },
  {
   "cell_type": "code",
   "execution_count": 13,
   "metadata": {},
   "outputs": [
    {
     "name": "stdout",
     "output_type": "stream",
     "text": [
      "Index(['Name', 'Age', 'Salary', 'Group'], dtype='object')\n"
     ]
    }
   ],
   "source": [
    "# check attribute names\n",
    "print(df.columns)"
   ]
  },
  {
   "cell_type": "code",
   "execution_count": 14,
   "metadata": {},
   "outputs": [
    {
     "name": "stdout",
     "output_type": "stream",
     "text": [
      "Name      ElaineJoshLinNahoSteveCharlesSamus\n",
      "Age                                      263\n",
      "Salary                                 47901\n",
      "Group                        MANWNMWAPATXZDR\n",
      "dtype: object\n"
     ]
    }
   ],
   "source": [
    "# check sum \n",
    "print(df.sum())"
   ]
  },
  {
   "cell_type": "code",
   "execution_count": 15,
   "metadata": {},
   "outputs": [
    {
     "name": "stdout",
     "output_type": "stream",
     "text": [
      "Age         37.571429\n",
      "Salary    6843.000000\n",
      "dtype: float64\n"
     ]
    }
   ],
   "source": [
    "# check mean\n",
    "print(df.mean())"
   ]
  },
  {
   "cell_type": "markdown",
   "metadata": {},
   "source": [
    "<font size=\"5\"> Basic operations </font>  \n"
   ]
  },
  {
   "cell_type": "code",
   "execution_count": 16,
   "metadata": {},
   "outputs": [
    {
     "name": "stdout",
     "output_type": "stream",
     "text": [
      "0    44\n",
      "1    17\n",
      "2    64\n",
      "3    33\n",
      "4    45\n",
      "5    25\n",
      "6    35\n",
      "Name: Age, dtype: int64\n"
     ]
    }
   ],
   "source": [
    "# Taking subsets of columns\n",
    "print(df['Age'])"
   ]
  },
  {
   "cell_type": "code",
   "execution_count": 17,
   "metadata": {},
   "outputs": [
    {
     "name": "stdout",
     "output_type": "stream",
     "text": [
      "   Name  Age  Salary Group\n",
      "2   Lin   64    7900    NM\n",
      "3  Naho   33    5600    WA\n"
     ]
    }
   ],
   "source": [
    "# Selecting rows with index\n",
    "print(df[2:4])"
   ]
  },
  {
   "cell_type": "code",
   "execution_count": 21,
   "metadata": {},
   "outputs": [
    {
     "name": "stdout",
     "output_type": "stream",
     "text": [
      "   Salary   Name\n",
      "1    5800   Josh\n",
      "2    7900    Lin\n",
      "3    5600   Naho\n",
      "4    6700  Steve\n"
     ]
    }
   ],
   "source": [
    "# Selecting rows and columns together with value\n",
    "print(df.loc[1:4, ['Salary','Name']])"
   ]
  },
  {
   "cell_type": "code",
   "execution_count": 22,
   "metadata": {},
   "outputs": [
    {
     "name": "stdout",
     "output_type": "stream",
     "text": [
      "   Salary Group\n",
      "1    5800    NW\n",
      "2    7900    NM\n",
      "3    5600    WA\n"
     ]
    }
   ],
   "source": [
    "# Selecting rows and columns together with index\n",
    "print(df.iloc[1:4, 2:4])"
   ]
  },
  {
   "cell_type": "code",
   "execution_count": 23,
   "metadata": {},
   "outputs": [
    {
     "name": "stdout",
     "output_type": "stream",
     "text": [
      "   Age Group\n",
      "1   17    NW\n",
      "3   33    WA\n",
      "4   45    PA\n"
     ]
    }
   ],
   "source": [
    "# Selecting rows and columns together with index\n",
    "print(df.iloc[[1,3,4], [1,3]])"
   ]
  },
  {
   "cell_type": "code",
   "execution_count": 26,
   "metadata": {},
   "outputs": [
    {
     "name": "stdout",
     "output_type": "stream",
     "text": [
      "    Name  Age  Salary Group\n",
      "6  Samus   35    9001   ZDR\n"
     ]
    }
   ],
   "source": [
    "# Selecting with query\n",
    "print(df[df['Salary']>9000])"
   ]
  },
  {
   "cell_type": "code",
   "execution_count": 30,
   "metadata": {},
   "outputs": [
    {
     "name": "stdout",
     "output_type": "stream",
     "text": [
      "    Name  Age  Salary Group\n",
      "6  Samus   35    9001   ZDR\n"
     ]
    }
   ],
   "source": [
    "# Selecting with multiple queries\n",
    "print(df[(df['Salary']>9000) & (df['Age']>30)])"
   ]
  },
  {
   "cell_type": "code",
   "execution_count": 31,
   "metadata": {},
   "outputs": [
    {
     "name": "stdout",
     "output_type": "stream",
     "text": [
      "      Name  Age  Salary Group\n",
      "2      Lin   64    7900    NM\n",
      "4    Steve   45    6700    PA\n",
      "0   Elaine   44    7000    MA\n",
      "6    Samus   35    9001   ZDR\n",
      "3     Naho   33    5600    WA\n",
      "5  Charles   25    5900    TX\n",
      "1     Josh   17    5800    NW\n"
     ]
    }
   ],
   "source": [
    "# sort according to specific attribute\n",
    "print(df.sort_values(by='Age', ascending=False)) "
   ]
  },
  {
   "cell_type": "code",
   "execution_count": 32,
   "metadata": {},
   "outputs": [
    {
     "data": {
      "text/html": [
       "<div>\n",
       "<style scoped>\n",
       "    .dataframe tbody tr th:only-of-type {\n",
       "        vertical-align: middle;\n",
       "    }\n",
       "\n",
       "    .dataframe tbody tr th {\n",
       "        vertical-align: top;\n",
       "    }\n",
       "\n",
       "    .dataframe thead th {\n",
       "        text-align: right;\n",
       "    }\n",
       "</style>\n",
       "<table border=\"1\" class=\"dataframe\">\n",
       "  <thead>\n",
       "    <tr style=\"text-align: right;\">\n",
       "      <th></th>\n",
       "      <th>Name</th>\n",
       "      <th>Age</th>\n",
       "      <th>Salary</th>\n",
       "      <th>Group</th>\n",
       "    </tr>\n",
       "  </thead>\n",
       "  <tbody>\n",
       "    <tr>\n",
       "      <th>0</th>\n",
       "      <td>Elaine</td>\n",
       "      <td>44.0</td>\n",
       "      <td>7000.0</td>\n",
       "      <td>MA</td>\n",
       "    </tr>\n",
       "    <tr>\n",
       "      <th>1</th>\n",
       "      <td>Josh</td>\n",
       "      <td>17.0</td>\n",
       "      <td>5800.0</td>\n",
       "      <td>NW</td>\n",
       "    </tr>\n",
       "    <tr>\n",
       "      <th>2</th>\n",
       "      <td>Lin</td>\n",
       "      <td>64.0</td>\n",
       "      <td>7900.0</td>\n",
       "      <td>NM</td>\n",
       "    </tr>\n",
       "    <tr>\n",
       "      <th>3</th>\n",
       "      <td>Naho</td>\n",
       "      <td>33.0</td>\n",
       "      <td>5600.0</td>\n",
       "      <td>WA</td>\n",
       "    </tr>\n",
       "    <tr>\n",
       "      <th>4</th>\n",
       "      <td>Steve</td>\n",
       "      <td>45.0</td>\n",
       "      <td>6700.0</td>\n",
       "      <td>PA</td>\n",
       "    </tr>\n",
       "    <tr>\n",
       "      <th>5</th>\n",
       "      <td>Charles</td>\n",
       "      <td>25.0</td>\n",
       "      <td>5900.0</td>\n",
       "      <td>TX</td>\n",
       "    </tr>\n",
       "    <tr>\n",
       "      <th>6</th>\n",
       "      <td>Samus</td>\n",
       "      <td>35.0</td>\n",
       "      <td>9001.0</td>\n",
       "      <td>ZDR</td>\n",
       "    </tr>\n",
       "    <tr>\n",
       "      <th>7</th>\n",
       "      <td>Chris</td>\n",
       "      <td>18.0</td>\n",
       "      <td>NaN</td>\n",
       "      <td>NV</td>\n",
       "    </tr>\n",
       "    <tr>\n",
       "      <th>8</th>\n",
       "      <td>Peter</td>\n",
       "      <td>NaN</td>\n",
       "      <td>9.0</td>\n",
       "      <td>FL</td>\n",
       "    </tr>\n",
       "  </tbody>\n",
       "</table>\n",
       "</div>"
      ],
      "text/plain": [
       "      Name   Age  Salary Group\n",
       "0   Elaine  44.0  7000.0    MA\n",
       "1     Josh  17.0  5800.0    NW\n",
       "2      Lin  64.0  7900.0    NM\n",
       "3     Naho  33.0  5600.0    WA\n",
       "4    Steve  45.0  6700.0    PA\n",
       "5  Charles  25.0  5900.0    TX\n",
       "6    Samus  35.0  9001.0   ZDR\n",
       "7    Chris  18.0     NaN    NV\n",
       "8    Peter   NaN     9.0    FL"
      ]
     },
     "execution_count": 32,
     "metadata": {},
     "output_type": "execute_result"
    }
   ],
   "source": [
    "# appending another DataFrame to the old one\n",
    "df2 = pd.DataFrame({'Name': ['Chris', 'Peter'],\n",
    "                   'Age': [18, np.nan],\n",
    "                   'Salary': [np.nan, 9],\n",
    "                   'Group': ['NV', 'FL']})\n",
    "\n",
    "df_new = df.append(df2, ignore_index=True)\n",
    "df_new"
   ]
  },
  {
   "cell_type": "code",
   "execution_count": 33,
   "metadata": {},
   "outputs": [
    {
     "name": "stdout",
     "output_type": "stream",
     "text": [
      "      Name   Age  Salary Group\n",
      "0   Elaine  44.0  7000.0    MA\n",
      "1     Josh  17.0  5800.0    NW\n",
      "2      Lin  64.0  7900.0    NM\n",
      "3     Naho  33.0  5600.0    WA\n",
      "4    Steve  45.0  6700.0    PA\n",
      "5  Charles  25.0  5900.0    TX\n",
      "6    Samus  35.0  9001.0   ZDR\n",
      "8    Peter   NaN     9.0    FL\n"
     ]
    }
   ],
   "source": [
    "# filter out NaN values in Salary\n",
    "print(df_new.dropna(how='any', subset=['Salary']))"
   ]
  },
  {
   "cell_type": "code",
   "execution_count": 34,
   "metadata": {},
   "outputs": [
    {
     "name": "stdout",
     "output_type": "stream",
     "text": [
      "      Name   Age  Salary Group\n",
      "0   Elaine  44.0  7000.0    MA\n",
      "1     Josh  17.0  5800.0    NW\n",
      "2      Lin  64.0  7900.0    NM\n",
      "3     Naho  33.0  5600.0    WA\n",
      "4    Steve  45.0  6700.0    PA\n",
      "5  Charles  25.0  5900.0    TX\n",
      "6    Samus  35.0  9001.0   ZDR\n",
      "7    Chris  18.0    None    NV\n",
      "8    Peter  None     9.0    FL\n"
     ]
    }
   ],
   "source": [
    "# replace NaN values with specified value\n",
    "print(df_new.fillna(value='None'))"
   ]
  },
  {
   "cell_type": "code",
   "execution_count": 35,
   "metadata": {},
   "outputs": [
    {
     "name": "stdout",
     "output_type": "stream",
     "text": [
      "[['Elaine' 44.0 7000.0 'MA']\n",
      " ['Josh' 17.0 5800.0 'NW']\n",
      " ['Lin' 64.0 7900.0 'NM']\n",
      " ['Naho' 33.0 5600.0 'WA']\n",
      " ['Steve' 45.0 6700.0 'PA']\n",
      " ['Charles' 25.0 5900.0 'TX']\n",
      " ['Samus' 35.0 9001.0 'ZDR']\n",
      " ['Chris' 18.0 nan 'NV']\n",
      " ['Peter' nan 9.0 'FL']]\n"
     ]
    }
   ],
   "source": [
    "# export as numpy array\n",
    "print(df_new.values)"
   ]
  },
  {
   "cell_type": "code",
   "execution_count": 36,
   "metadata": {},
   "outputs": [
    {
     "name": "stdout",
     "output_type": "stream",
     "text": [
      "      Name  Age  Salary Group\n",
      "0   Elaine   44    7000    MA\n",
      "1     Josh   17    5800    NW\n",
      "2      Lin   64    7900    NM\n",
      "3     Naho   33    5600    WA\n",
      "4    Steve   45    6700    PA\n",
      "5  Charles   25    5900    TX\n",
      "      Name  Location Team\n",
      "0     Josh    Boston    A\n",
      "1      Lin        DC    A\n",
      "2    Steve   Seattle    C\n",
      "3  Charles  San Jose    B\n",
      "4    Chris  New York    D\n",
      "5      Pan    Denver    C\n"
     ]
    }
   ],
   "source": [
    "df_left = pd.DataFrame({'Name': ['Elaine', 'Josh', 'Lin', 'Naho', 'Steve', 'Charles'],\n",
    "                   'Age': [44, 17, 64, 33, 45, 25],\n",
    "                   'Salary': [7000, 5800, 7900, 5600, 6700, 5900],\n",
    "                   'Group': ['MA', 'NW', 'NM', 'WA', 'PA', 'TX']})\n",
    "df_right = pd.DataFrame({'Name': ['Josh', 'Lin', 'Steve', 'Charles', 'Chris', 'Pan'],\n",
    "                   'Location': [\"Boston\", \"DC\", \"Seattle\", \"San Jose\", \"New York\", \"Denver\"],\n",
    "                   'Team': [\"A\", \"A\", \"C\", \"B\", \"D\", \"C\"]})\n",
    "\n",
    "print(df_left)\n",
    "print(df_right)"
   ]
  },
  {
   "cell_type": "code",
   "execution_count": 37,
   "metadata": {},
   "outputs": [
    {
     "data": {
      "text/html": [
       "<div>\n",
       "<style scoped>\n",
       "    .dataframe tbody tr th:only-of-type {\n",
       "        vertical-align: middle;\n",
       "    }\n",
       "\n",
       "    .dataframe tbody tr th {\n",
       "        vertical-align: top;\n",
       "    }\n",
       "\n",
       "    .dataframe thead th {\n",
       "        text-align: right;\n",
       "    }\n",
       "</style>\n",
       "<table border=\"1\" class=\"dataframe\">\n",
       "  <thead>\n",
       "    <tr style=\"text-align: right;\">\n",
       "      <th></th>\n",
       "      <th>Name</th>\n",
       "      <th>Age</th>\n",
       "      <th>Salary</th>\n",
       "      <th>Group</th>\n",
       "      <th>Location</th>\n",
       "      <th>Team</th>\n",
       "    </tr>\n",
       "  </thead>\n",
       "  <tbody>\n",
       "    <tr>\n",
       "      <th>0</th>\n",
       "      <td>Josh</td>\n",
       "      <td>17</td>\n",
       "      <td>5800</td>\n",
       "      <td>NW</td>\n",
       "      <td>Boston</td>\n",
       "      <td>A</td>\n",
       "    </tr>\n",
       "    <tr>\n",
       "      <th>1</th>\n",
       "      <td>Lin</td>\n",
       "      <td>64</td>\n",
       "      <td>7900</td>\n",
       "      <td>NM</td>\n",
       "      <td>DC</td>\n",
       "      <td>A</td>\n",
       "    </tr>\n",
       "    <tr>\n",
       "      <th>2</th>\n",
       "      <td>Steve</td>\n",
       "      <td>45</td>\n",
       "      <td>6700</td>\n",
       "      <td>PA</td>\n",
       "      <td>Seattle</td>\n",
       "      <td>C</td>\n",
       "    </tr>\n",
       "    <tr>\n",
       "      <th>3</th>\n",
       "      <td>Charles</td>\n",
       "      <td>25</td>\n",
       "      <td>5900</td>\n",
       "      <td>TX</td>\n",
       "      <td>San Jose</td>\n",
       "      <td>B</td>\n",
       "    </tr>\n",
       "  </tbody>\n",
       "</table>\n",
       "</div>"
      ],
      "text/plain": [
       "      Name  Age  Salary Group  Location Team\n",
       "0     Josh   17    5800    NW    Boston    A\n",
       "1      Lin   64    7900    NM        DC    A\n",
       "2    Steve   45    6700    PA   Seattle    C\n",
       "3  Charles   25    5900    TX  San Jose    B"
      ]
     },
     "execution_count": 37,
     "metadata": {},
     "output_type": "execute_result"
    }
   ],
   "source": [
    "# Merging two tables using intersection of keys from both frames\n",
    "pd.merge(df_left, df_right,how=\"inner\")\n"
   ]
  },
  {
   "cell_type": "code",
   "execution_count": 38,
   "metadata": {},
   "outputs": [
    {
     "data": {
      "text/html": [
       "<div>\n",
       "<style scoped>\n",
       "    .dataframe tbody tr th:only-of-type {\n",
       "        vertical-align: middle;\n",
       "    }\n",
       "\n",
       "    .dataframe tbody tr th {\n",
       "        vertical-align: top;\n",
       "    }\n",
       "\n",
       "    .dataframe thead th {\n",
       "        text-align: right;\n",
       "    }\n",
       "</style>\n",
       "<table border=\"1\" class=\"dataframe\">\n",
       "  <thead>\n",
       "    <tr style=\"text-align: right;\">\n",
       "      <th></th>\n",
       "      <th>Name</th>\n",
       "      <th>Age</th>\n",
       "      <th>Salary</th>\n",
       "      <th>Group</th>\n",
       "      <th>Location</th>\n",
       "      <th>Team</th>\n",
       "    </tr>\n",
       "  </thead>\n",
       "  <tbody>\n",
       "    <tr>\n",
       "      <th>0</th>\n",
       "      <td>Elaine</td>\n",
       "      <td>44.0</td>\n",
       "      <td>7000.0</td>\n",
       "      <td>MA</td>\n",
       "      <td>NaN</td>\n",
       "      <td>NaN</td>\n",
       "    </tr>\n",
       "    <tr>\n",
       "      <th>1</th>\n",
       "      <td>Josh</td>\n",
       "      <td>17.0</td>\n",
       "      <td>5800.0</td>\n",
       "      <td>NW</td>\n",
       "      <td>Boston</td>\n",
       "      <td>A</td>\n",
       "    </tr>\n",
       "    <tr>\n",
       "      <th>2</th>\n",
       "      <td>Lin</td>\n",
       "      <td>64.0</td>\n",
       "      <td>7900.0</td>\n",
       "      <td>NM</td>\n",
       "      <td>DC</td>\n",
       "      <td>A</td>\n",
       "    </tr>\n",
       "    <tr>\n",
       "      <th>3</th>\n",
       "      <td>Naho</td>\n",
       "      <td>33.0</td>\n",
       "      <td>5600.0</td>\n",
       "      <td>WA</td>\n",
       "      <td>NaN</td>\n",
       "      <td>NaN</td>\n",
       "    </tr>\n",
       "    <tr>\n",
       "      <th>4</th>\n",
       "      <td>Steve</td>\n",
       "      <td>45.0</td>\n",
       "      <td>6700.0</td>\n",
       "      <td>PA</td>\n",
       "      <td>Seattle</td>\n",
       "      <td>C</td>\n",
       "    </tr>\n",
       "    <tr>\n",
       "      <th>5</th>\n",
       "      <td>Charles</td>\n",
       "      <td>25.0</td>\n",
       "      <td>5900.0</td>\n",
       "      <td>TX</td>\n",
       "      <td>San Jose</td>\n",
       "      <td>B</td>\n",
       "    </tr>\n",
       "    <tr>\n",
       "      <th>6</th>\n",
       "      <td>Chris</td>\n",
       "      <td>NaN</td>\n",
       "      <td>NaN</td>\n",
       "      <td>NaN</td>\n",
       "      <td>New York</td>\n",
       "      <td>D</td>\n",
       "    </tr>\n",
       "    <tr>\n",
       "      <th>7</th>\n",
       "      <td>Pan</td>\n",
       "      <td>NaN</td>\n",
       "      <td>NaN</td>\n",
       "      <td>NaN</td>\n",
       "      <td>Denver</td>\n",
       "      <td>C</td>\n",
       "    </tr>\n",
       "  </tbody>\n",
       "</table>\n",
       "</div>"
      ],
      "text/plain": [
       "      Name   Age  Salary Group  Location Team\n",
       "0   Elaine  44.0  7000.0    MA       NaN  NaN\n",
       "1     Josh  17.0  5800.0    NW    Boston    A\n",
       "2      Lin  64.0  7900.0    NM        DC    A\n",
       "3     Naho  33.0  5600.0    WA       NaN  NaN\n",
       "4    Steve  45.0  6700.0    PA   Seattle    C\n",
       "5  Charles  25.0  5900.0    TX  San Jose    B\n",
       "6    Chris   NaN     NaN   NaN  New York    D\n",
       "7      Pan   NaN     NaN   NaN    Denver    C"
      ]
     },
     "execution_count": 38,
     "metadata": {},
     "output_type": "execute_result"
    }
   ],
   "source": [
    "# Merging two tables using union of keys from both frames\n",
    "pd.merge(df_left, df_right,how=\"outer\")\n"
   ]
  },
  {
   "cell_type": "code",
   "execution_count": 39,
   "metadata": {},
   "outputs": [
    {
     "data": {
      "text/html": [
       "<div>\n",
       "<style scoped>\n",
       "    .dataframe tbody tr th:only-of-type {\n",
       "        vertical-align: middle;\n",
       "    }\n",
       "\n",
       "    .dataframe tbody tr th {\n",
       "        vertical-align: top;\n",
       "    }\n",
       "\n",
       "    .dataframe thead th {\n",
       "        text-align: right;\n",
       "    }\n",
       "</style>\n",
       "<table border=\"1\" class=\"dataframe\">\n",
       "  <thead>\n",
       "    <tr style=\"text-align: right;\">\n",
       "      <th></th>\n",
       "      <th>Name</th>\n",
       "      <th>Age</th>\n",
       "      <th>Salary</th>\n",
       "      <th>Group</th>\n",
       "      <th>Location</th>\n",
       "      <th>Team</th>\n",
       "    </tr>\n",
       "  </thead>\n",
       "  <tbody>\n",
       "    <tr>\n",
       "      <th>0</th>\n",
       "      <td>Elaine</td>\n",
       "      <td>44</td>\n",
       "      <td>7000</td>\n",
       "      <td>MA</td>\n",
       "      <td>NaN</td>\n",
       "      <td>NaN</td>\n",
       "    </tr>\n",
       "    <tr>\n",
       "      <th>1</th>\n",
       "      <td>Josh</td>\n",
       "      <td>17</td>\n",
       "      <td>5800</td>\n",
       "      <td>NW</td>\n",
       "      <td>Boston</td>\n",
       "      <td>A</td>\n",
       "    </tr>\n",
       "    <tr>\n",
       "      <th>2</th>\n",
       "      <td>Lin</td>\n",
       "      <td>64</td>\n",
       "      <td>7900</td>\n",
       "      <td>NM</td>\n",
       "      <td>DC</td>\n",
       "      <td>A</td>\n",
       "    </tr>\n",
       "    <tr>\n",
       "      <th>3</th>\n",
       "      <td>Naho</td>\n",
       "      <td>33</td>\n",
       "      <td>5600</td>\n",
       "      <td>WA</td>\n",
       "      <td>NaN</td>\n",
       "      <td>NaN</td>\n",
       "    </tr>\n",
       "    <tr>\n",
       "      <th>4</th>\n",
       "      <td>Steve</td>\n",
       "      <td>45</td>\n",
       "      <td>6700</td>\n",
       "      <td>PA</td>\n",
       "      <td>Seattle</td>\n",
       "      <td>C</td>\n",
       "    </tr>\n",
       "    <tr>\n",
       "      <th>5</th>\n",
       "      <td>Charles</td>\n",
       "      <td>25</td>\n",
       "      <td>5900</td>\n",
       "      <td>TX</td>\n",
       "      <td>San Jose</td>\n",
       "      <td>B</td>\n",
       "    </tr>\n",
       "  </tbody>\n",
       "</table>\n",
       "</div>"
      ],
      "text/plain": [
       "      Name  Age  Salary Group  Location Team\n",
       "0   Elaine   44    7000    MA       NaN  NaN\n",
       "1     Josh   17    5800    NW    Boston    A\n",
       "2      Lin   64    7900    NM        DC    A\n",
       "3     Naho   33    5600    WA       NaN  NaN\n",
       "4    Steve   45    6700    PA   Seattle    C\n",
       "5  Charles   25    5900    TX  San Jose    B"
      ]
     },
     "execution_count": 39,
     "metadata": {},
     "output_type": "execute_result"
    }
   ],
   "source": [
    "# Merging two tables using keys from left frame only\n",
    "pd.merge(df_left, df_right,how=\"left\")"
   ]
  },
  {
   "cell_type": "code",
   "execution_count": 40,
   "metadata": {},
   "outputs": [
    {
     "data": {
      "text/html": [
       "<div>\n",
       "<style scoped>\n",
       "    .dataframe tbody tr th:only-of-type {\n",
       "        vertical-align: middle;\n",
       "    }\n",
       "\n",
       "    .dataframe tbody tr th {\n",
       "        vertical-align: top;\n",
       "    }\n",
       "\n",
       "    .dataframe thead th {\n",
       "        text-align: right;\n",
       "    }\n",
       "</style>\n",
       "<table border=\"1\" class=\"dataframe\">\n",
       "  <thead>\n",
       "    <tr style=\"text-align: right;\">\n",
       "      <th></th>\n",
       "      <th>Name</th>\n",
       "      <th>Age</th>\n",
       "      <th>Salary</th>\n",
       "      <th>Group</th>\n",
       "      <th>Location</th>\n",
       "      <th>Team</th>\n",
       "    </tr>\n",
       "  </thead>\n",
       "  <tbody>\n",
       "    <tr>\n",
       "      <th>0</th>\n",
       "      <td>Josh</td>\n",
       "      <td>17.0</td>\n",
       "      <td>5800.0</td>\n",
       "      <td>NW</td>\n",
       "      <td>Boston</td>\n",
       "      <td>A</td>\n",
       "    </tr>\n",
       "    <tr>\n",
       "      <th>1</th>\n",
       "      <td>Lin</td>\n",
       "      <td>64.0</td>\n",
       "      <td>7900.0</td>\n",
       "      <td>NM</td>\n",
       "      <td>DC</td>\n",
       "      <td>A</td>\n",
       "    </tr>\n",
       "    <tr>\n",
       "      <th>2</th>\n",
       "      <td>Steve</td>\n",
       "      <td>45.0</td>\n",
       "      <td>6700.0</td>\n",
       "      <td>PA</td>\n",
       "      <td>Seattle</td>\n",
       "      <td>C</td>\n",
       "    </tr>\n",
       "    <tr>\n",
       "      <th>3</th>\n",
       "      <td>Charles</td>\n",
       "      <td>25.0</td>\n",
       "      <td>5900.0</td>\n",
       "      <td>TX</td>\n",
       "      <td>San Jose</td>\n",
       "      <td>B</td>\n",
       "    </tr>\n",
       "    <tr>\n",
       "      <th>4</th>\n",
       "      <td>Chris</td>\n",
       "      <td>NaN</td>\n",
       "      <td>NaN</td>\n",
       "      <td>NaN</td>\n",
       "      <td>New York</td>\n",
       "      <td>D</td>\n",
       "    </tr>\n",
       "    <tr>\n",
       "      <th>5</th>\n",
       "      <td>Pan</td>\n",
       "      <td>NaN</td>\n",
       "      <td>NaN</td>\n",
       "      <td>NaN</td>\n",
       "      <td>Denver</td>\n",
       "      <td>C</td>\n",
       "    </tr>\n",
       "  </tbody>\n",
       "</table>\n",
       "</div>"
      ],
      "text/plain": [
       "      Name   Age  Salary Group  Location Team\n",
       "0     Josh  17.0  5800.0    NW    Boston    A\n",
       "1      Lin  64.0  7900.0    NM        DC    A\n",
       "2    Steve  45.0  6700.0    PA   Seattle    C\n",
       "3  Charles  25.0  5900.0    TX  San Jose    B\n",
       "4    Chris   NaN     NaN   NaN  New York    D\n",
       "5      Pan   NaN     NaN   NaN    Denver    C"
      ]
     },
     "execution_count": 40,
     "metadata": {},
     "output_type": "execute_result"
    }
   ],
   "source": [
    "# Merging two tables using keys from right frame only\n",
    "pd.merge(df_left, df_right,how=\"right\")"
   ]
  },
  {
   "cell_type": "code",
   "execution_count": 41,
   "metadata": {},
   "outputs": [
    {
     "data": {
      "text/html": [
       "<div>\n",
       "<style scoped>\n",
       "    .dataframe tbody tr th:only-of-type {\n",
       "        vertical-align: middle;\n",
       "    }\n",
       "\n",
       "    .dataframe tbody tr th {\n",
       "        vertical-align: top;\n",
       "    }\n",
       "\n",
       "    .dataframe thead th {\n",
       "        text-align: right;\n",
       "    }\n",
       "</style>\n",
       "<table border=\"1\" class=\"dataframe\">\n",
       "  <thead>\n",
       "    <tr style=\"text-align: right;\">\n",
       "      <th></th>\n",
       "      <th>Age</th>\n",
       "      <th>Salary</th>\n",
       "    </tr>\n",
       "    <tr>\n",
       "      <th>Team</th>\n",
       "      <th></th>\n",
       "      <th></th>\n",
       "    </tr>\n",
       "  </thead>\n",
       "  <tbody>\n",
       "    <tr>\n",
       "      <th>A</th>\n",
       "      <td>40.5</td>\n",
       "      <td>6850.0</td>\n",
       "    </tr>\n",
       "    <tr>\n",
       "      <th>B</th>\n",
       "      <td>25.0</td>\n",
       "      <td>5900.0</td>\n",
       "    </tr>\n",
       "    <tr>\n",
       "      <th>C</th>\n",
       "      <td>45.0</td>\n",
       "      <td>6700.0</td>\n",
       "    </tr>\n",
       "    <tr>\n",
       "      <th>D</th>\n",
       "      <td>NaN</td>\n",
       "      <td>NaN</td>\n",
       "    </tr>\n",
       "  </tbody>\n",
       "</table>\n",
       "</div>"
      ],
      "text/plain": [
       "       Age  Salary\n",
       "Team              \n",
       "A     40.5  6850.0\n",
       "B     25.0  5900.0\n",
       "C     45.0  6700.0\n",
       "D      NaN     NaN"
      ]
     },
     "execution_count": 41,
     "metadata": {},
     "output_type": "execute_result"
    }
   ],
   "source": [
    "# Group frame with specified column and get the mean values for each \"cluster\"\n",
    "(pd.merge(df_left, df_right,how=\"outer\").groupby([\"Team\"]).mean())"
   ]
  },
  {
   "cell_type": "code",
   "execution_count": 42,
   "metadata": {},
   "outputs": [
    {
     "data": {
      "image/png": "[encoded data removed]",
      "text/plain": [
       "<Figure size 432x288 with 1 Axes>"
      ]
     },
     "metadata": {
      "needs_background": "light"
     },
     "output_type": "display_data"
    }
   ],
   "source": [
    "# Visualize \n",
    "df_left.plot(x=\"Name\", y=[\"Age\",\"Salary\"], kind='bar');"
   ]
  },
  {
   "cell_type": "markdown",
   "metadata": {},
   "source": [
    "<font size=\"5\"> Challenge </font>  \n"
   ]
  },
  {
   "cell_type": "markdown",
   "metadata": {},
   "source": [
    "Implement a function process() that given the path to a CSV file as input, select those entries with a valid license (not NaN), room type of Private room, price less than or equal to 80, minimum nights less than or equal to 2, number of reviewers more than or equal to 500, or those with a valid license (not NaN), a room type of Entire home/apt, price less than or equal to 100, minimum nights less than or equal to 1, number of reviewers more than or equal to 100, and finally present the result sorted according to latitude and then longitude in an ascending order and with only columns of id, latitude, longitude, room_type, price and availability_365."
   ]
  },
  {
   "cell_type": "code",
   "execution_count": 51,
   "metadata": {},
   "outputs": [
    {
     "name": "stdout",
     "output_type": "stream",
     "text": [
      "Index(['id', 'name', 'host_id', 'host_name', 'neighbourhood_group',\n",
      "       'neighbourhood', 'latitude', 'longitude', 'room_type', 'price',\n",
      "       'minimum_nights', 'number_of_reviews', 'last_review',\n",
      "       'reviews_per_month', 'calculated_host_listings_count',\n",
      "       'availability_365', 'number_of_reviews_ltm', 'license'],\n",
      "      dtype='object')\n"
     ]
    },
    {
     "ename": "KeyError",
     "evalue": "'number_of_reviews_'",
     "output_type": "error",
     "traceback": [
      "\u001b[0;31m---------------------------------------------------------------------------\u001b[0m",
      "\u001b[0;31mKeyError\u001b[0m                                  Traceback (most recent call last)",
      "\u001b[0;32m~/opt/anaconda3/lib/python3.8/site-packages/pandas/core/indexes/base.py\u001b[0m in \u001b[0;36mget_loc\u001b[0;34m(self, key, method, tolerance)\u001b[0m\n\u001b[1;32m   3079\u001b[0m             \u001b[0;32mtry\u001b[0m\u001b[0;34m:\u001b[0m\u001b[0;34m\u001b[0m\u001b[0;34m\u001b[0m\u001b[0m\n\u001b[0;32m-> 3080\u001b[0;31m                 \u001b[0;32mreturn\u001b[0m \u001b[0mself\u001b[0m\u001b[0;34m.\u001b[0m\u001b[0m_engine\u001b[0m\u001b[0;34m.\u001b[0m\u001b[0mget_loc\u001b[0m\u001b[0;34m(\u001b[0m\u001b[0mcasted_key\u001b[0m\u001b[0;34m)\u001b[0m\u001b[0;34m\u001b[0m\u001b[0;34m\u001b[0m\u001b[0m\n\u001b[0m\u001b[1;32m   3081\u001b[0m             \u001b[0;32mexcept\u001b[0m \u001b[0mKeyError\u001b[0m \u001b[0;32mas\u001b[0m \u001b[0merr\u001b[0m\u001b[0;34m:\u001b[0m\u001b[0;34m\u001b[0m\u001b[0;34m\u001b[0m\u001b[0m\n",
      "\u001b[0;32mpandas/_libs/index.pyx\u001b[0m in \u001b[0;36mpandas._libs.index.IndexEngine.get_loc\u001b[0;34m()\u001b[0m\n",
      "\u001b[0;32mpandas/_libs/index.pyx\u001b[0m in \u001b[0;36mpandas._libs.index.IndexEngine.get_loc\u001b[0;34m()\u001b[0m\n",
      "\u001b[0;32mpandas/_libs/hashtable_class_helper.pxi\u001b[0m in \u001b[0;36mpandas._libs.hashtable.PyObjectHashTable.get_item\u001b[0;34m()\u001b[0m\n",
      "\u001b[0;32mpandas/_libs/hashtable_class_helper.pxi\u001b[0m in \u001b[0;36mpandas._libs.hashtable.PyObjectHashTable.get_item\u001b[0;34m()\u001b[0m\n",
      "\u001b[0;31mKeyError\u001b[0m: 'number_of_reviews_'",
      "\nThe above exception was the direct cause of the following exception:\n",
      "\u001b[0;31mKeyError\u001b[0m                                  Traceback (most recent call last)",
      "\u001b[0;32m<ipython-input-51-cb8f5ae5df85>\u001b[0m in \u001b[0;36m<module>\u001b[0;34m\u001b[0m\n\u001b[1;32m     11\u001b[0m     \u001b[0;32mreturn\u001b[0m \u001b[0mdf_sorted\u001b[0m\u001b[0;34m[\u001b[0m\u001b[0;34m'id'\u001b[0m\u001b[0;34m,\u001b[0m \u001b[0;34m'latitude'\u001b[0m\u001b[0;34m,\u001b[0m \u001b[0;34m'longitude'\u001b[0m\u001b[0;34m,\u001b[0m \u001b[0;34m'room_type'\u001b[0m\u001b[0;34m,\u001b[0m \u001b[0;34m'price'\u001b[0m\u001b[0;34m,\u001b[0m \u001b[0;34m'availability_365'\u001b[0m\u001b[0;34m]\u001b[0m\u001b[0;34m\u001b[0m\u001b[0;34m\u001b[0m\u001b[0m\n\u001b[1;32m     12\u001b[0m \u001b[0;34m\u001b[0m\u001b[0m\n\u001b[0;32m---> 13\u001b[0;31m \u001b[0mdf\u001b[0m \u001b[0;34m=\u001b[0m \u001b[0mprocess\u001b[0m\u001b[0;34m(\u001b[0m\u001b[0;34m'listings.csv'\u001b[0m\u001b[0;34m)\u001b[0m\u001b[0;34m\u001b[0m\u001b[0;34m\u001b[0m\u001b[0m\n\u001b[0m\u001b[1;32m     14\u001b[0m \u001b[0mprint\u001b[0m\u001b[0;34m(\u001b[0m\u001b[0mdf\u001b[0m\u001b[0;34m)\u001b[0m\u001b[0;34m\u001b[0m\u001b[0;34m\u001b[0m\u001b[0m\n",
      "\u001b[0;32m<ipython-input-51-cb8f5ae5df85>\u001b[0m in \u001b[0;36mprocess\u001b[0;34m(path)\u001b[0m\n\u001b[1;32m      4\u001b[0m     \u001b[0mdf_new\u001b[0m \u001b[0;34m=\u001b[0m \u001b[0mdf\u001b[0m\u001b[0;34m.\u001b[0m\u001b[0mdropna\u001b[0m\u001b[0;34m(\u001b[0m\u001b[0mhow\u001b[0m\u001b[0;34m=\u001b[0m\u001b[0;34m'any'\u001b[0m\u001b[0;34m,\u001b[0m \u001b[0msubset\u001b[0m\u001b[0;34m=\u001b[0m\u001b[0;34m[\u001b[0m\u001b[0;34m'license'\u001b[0m\u001b[0;34m]\u001b[0m\u001b[0;34m)\u001b[0m\u001b[0;34m\u001b[0m\u001b[0;34m\u001b[0m\u001b[0m\n\u001b[1;32m      5\u001b[0m     df1 = df_new[(df_new['room_type'] == 'Private room') & (df_new['price'] <= 80) & (df_new['minimum_nights'] <= 2) \\\n\u001b[0;32m----> 6\u001b[0;31m                 & (df_new['number_of_reviews_'] >= 500)]\n\u001b[0m\u001b[1;32m      7\u001b[0m     df2 = df_new[(df_new['room_type'] == 'Entire home/apt') & (df_new['price'] <= 100) & \\\n\u001b[1;32m      8\u001b[0m                  (df_new['minimum_nights'] <= 1) & (df_new['number_of_reviews'] >= 100)]\n",
      "\u001b[0;32m~/opt/anaconda3/lib/python3.8/site-packages/pandas/core/frame.py\u001b[0m in \u001b[0;36m__getitem__\u001b[0;34m(self, key)\u001b[0m\n\u001b[1;32m   3022\u001b[0m             \u001b[0;32mif\u001b[0m \u001b[0mself\u001b[0m\u001b[0;34m.\u001b[0m\u001b[0mcolumns\u001b[0m\u001b[0;34m.\u001b[0m\u001b[0mnlevels\u001b[0m \u001b[0;34m>\u001b[0m \u001b[0;36m1\u001b[0m\u001b[0;34m:\u001b[0m\u001b[0;34m\u001b[0m\u001b[0;34m\u001b[0m\u001b[0m\n\u001b[1;32m   3023\u001b[0m                 \u001b[0;32mreturn\u001b[0m \u001b[0mself\u001b[0m\u001b[0;34m.\u001b[0m\u001b[0m_getitem_multilevel\u001b[0m\u001b[0;34m(\u001b[0m\u001b[0mkey\u001b[0m\u001b[0;34m)\u001b[0m\u001b[0;34m\u001b[0m\u001b[0;34m\u001b[0m\u001b[0m\n\u001b[0;32m-> 3024\u001b[0;31m             \u001b[0mindexer\u001b[0m \u001b[0;34m=\u001b[0m \u001b[0mself\u001b[0m\u001b[0;34m.\u001b[0m\u001b[0mcolumns\u001b[0m\u001b[0;34m.\u001b[0m\u001b[0mget_loc\u001b[0m\u001b[0;34m(\u001b[0m\u001b[0mkey\u001b[0m\u001b[0;34m)\u001b[0m\u001b[0;34m\u001b[0m\u001b[0;34m\u001b[0m\u001b[0m\n\u001b[0m\u001b[1;32m   3025\u001b[0m             \u001b[0;32mif\u001b[0m \u001b[0mis_integer\u001b[0m\u001b[0;34m(\u001b[0m\u001b[0mindexer\u001b[0m\u001b[0;34m)\u001b[0m\u001b[0;34m:\u001b[0m\u001b[0;34m\u001b[0m\u001b[0;34m\u001b[0m\u001b[0m\n\u001b[1;32m   3026\u001b[0m                 \u001b[0mindexer\u001b[0m \u001b[0;34m=\u001b[0m \u001b[0;34m[\u001b[0m\u001b[0mindexer\u001b[0m\u001b[0;34m]\u001b[0m\u001b[0;34m\u001b[0m\u001b[0;34m\u001b[0m\u001b[0m\n",
      "\u001b[0;32m~/opt/anaconda3/lib/python3.8/site-packages/pandas/core/indexes/base.py\u001b[0m in \u001b[0;36mget_loc\u001b[0;34m(self, key, method, tolerance)\u001b[0m\n\u001b[1;32m   3080\u001b[0m                 \u001b[0;32mreturn\u001b[0m \u001b[0mself\u001b[0m\u001b[0;34m.\u001b[0m\u001b[0m_engine\u001b[0m\u001b[0;34m.\u001b[0m\u001b[0mget_loc\u001b[0m\u001b[0;34m(\u001b[0m\u001b[0mcasted_key\u001b[0m\u001b[0;34m)\u001b[0m\u001b[0;34m\u001b[0m\u001b[0;34m\u001b[0m\u001b[0m\n\u001b[1;32m   3081\u001b[0m             \u001b[0;32mexcept\u001b[0m \u001b[0mKeyError\u001b[0m \u001b[0;32mas\u001b[0m \u001b[0merr\u001b[0m\u001b[0;34m:\u001b[0m\u001b[0;34m\u001b[0m\u001b[0;34m\u001b[0m\u001b[0m\n\u001b[0;32m-> 3082\u001b[0;31m                 \u001b[0;32mraise\u001b[0m \u001b[0mKeyError\u001b[0m\u001b[0;34m(\u001b[0m\u001b[0mkey\u001b[0m\u001b[0;34m)\u001b[0m \u001b[0;32mfrom\u001b[0m \u001b[0merr\u001b[0m\u001b[0;34m\u001b[0m\u001b[0;34m\u001b[0m\u001b[0m\n\u001b[0m\u001b[1;32m   3083\u001b[0m \u001b[0;34m\u001b[0m\u001b[0m\n\u001b[1;32m   3084\u001b[0m         \u001b[0;32mif\u001b[0m \u001b[0mtolerance\u001b[0m \u001b[0;32mis\u001b[0m \u001b[0;32mnot\u001b[0m \u001b[0;32mNone\u001b[0m\u001b[0;34m:\u001b[0m\u001b[0;34m\u001b[0m\u001b[0;34m\u001b[0m\u001b[0m\n",
      "\u001b[0;31mKeyError\u001b[0m: 'number_of_reviews_'"
     ]
    }
   ],
   "source": [
    "def process(path):\n",
    "    df = pd.read_csv(path)\n",
    "    print(df.columns)\n",
    "    df_new = df.dropna(how='any', subset=['license'])\n",
    "    df1 = df_new[(df_new['room_type'] == 'Private room') & (df_new['price'] <= 80) & (df_new['minimum_nights'] <= 2) \\\n",
    "                & (df_new['number_of_reviews_'] >= 500)]\n",
    "    df2 = df_new[(df_new['room_type'] == 'Entire home/apt') & (df_new['price'] <= 100) & \\\n",
    "                 (df_new['minimum_nights'] <= 1) & (df_new['number_of_reviews'] >= 100)]\n",
    "    df_queried = df1.append(df2, igonore_index=True)\n",
    "    df_sorted = df_queried.sort_values(by=['latitude', 'longitude'], ascending=True)\n",
    "    return df_sorted['id', 'latitude', 'longitude', 'room_type', 'price', 'availability_365']\n",
    "    \n",
    "df = process('listings.csv')\n",
    "print(df)"
   ]
  }
 ],
 "metadata": {
  "kernelspec": {
   "display_name": "Python 3",
   "language": "python",
   "name": "python3"
  },
  "language_info": {
   "codemirror_mode": {
    "name": "ipython",
    "version": 3
   },
   "file_extension": ".py",
   "mimetype": "text/x-python",
   "name": "python",
   "nbconvert_exporter": "python",
   "pygments_lexer": "ipython3",
   "version": "3.8.8"
  }
 },
 "nbformat": 4,
 "nbformat_minor": 2
}
